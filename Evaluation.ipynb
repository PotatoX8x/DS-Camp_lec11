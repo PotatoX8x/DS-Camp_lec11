{
 "cells": [
  {
   "cell_type": "code",
   "execution_count": 1,
   "id": "999655d2",
   "metadata": {},
   "outputs": [],
   "source": [
    "import numpy as np\n",
    "from sklearn.datasets import load_iris\n",
    "from sklearn.model_selection import train_test_split, cross_val_score\n",
    "from sklearn.dummy import  DummyClassifier\n",
    "from sklearn.neighbors import KNeighborsClassifier\n",
    "from sklearn.svm import SVC\n",
    "from sklearn.linear_model import LogisticRegression\n",
    "from xgboost import XGBClassifier\n",
    "\n",
    "from sklearn.metrics import accuracy_score, precision_score, recall_score, f1_score"
   ]
  },
  {
   "cell_type": "code",
   "execution_count": 2,
   "id": "3fc58ffd",
   "metadata": {},
   "outputs": [
    {
     "name": "stdout",
     "output_type": "stream",
     "text": [
      "X_train.shape = (112, 4)\n",
      "y_train.shape = (112,)\n",
      "X_test.shape = (38, 4)\n",
      "y_test.shape = (38,)\n"
     ]
    }
   ],
   "source": [
    "X, y = load_iris(return_X_y = True)\n",
    "X_train, X_test, y_train, y_test = train_test_split(X, y, random_state = 0)\n",
    "print(f\"X_train.shape = {X_train.shape}\")\n",
    "print(f\"y_train.shape = {y_train.shape}\")\n",
    "print(f\"X_test.shape = {X_test.shape}\")\n",
    "print(f\"y_test.shape = {y_test.shape}\")"
   ]
  },
  {
   "cell_type": "code",
   "execution_count": 3,
   "id": "cddd7d7d",
   "metadata": {},
   "outputs": [],
   "source": [
    "def Evaluate(clf, X_train, X_test, y_train, y_test, X, y):\n",
    "    print(\"train accuracy= {:.3%}\".format(clf.score (X_train, y_train)))\n",
    "    print(\"test accuracy= {:.3%}\".format(clf.score (X_test, y_test)))\n",
    "    print('Cross-validation (accuracy)', cross_val_score(clf, X, y, cv=5))\n",
    "    y_predicted = clf.predict(X_test)\n",
    "    print ('accuracy = {:.2}'.format(accuracy_score(y_test, y_predicted)))\n",
    "    print ('recall = {:.2}'.format(recall_score(y_test, y_predicted, average='weighted')))\n",
    "    print ('precision = {:.2}'.format(precision_score(y_test, y_predicted, average='weighted')))\n",
    "    print ('f1_score  = {:.2}'.format(f1_score(y_test, y_predicted, average='weighted')))"
   ]
  },
  {
   "cell_type": "code",
   "execution_count": 4,
   "id": "058f88e4",
   "metadata": {},
   "outputs": [
    {
     "name": "stdout",
     "output_type": "stream",
     "text": [
      "train accuracy= 28.571%\n",
      "test accuracy= 31.579%\n",
      "Cross-validation (accuracy) [0.2        0.4        0.26666667 0.23333333 0.13333333]\n",
      "accuracy = 0.39\n",
      "recall = 0.39\n",
      "precision = 0.45\n",
      "f1_score  = 0.39\n"
     ]
    }
   ],
   "source": [
    "#Dummy classifier\n",
    "clf_dummy= DummyClassifier(strategy='stratified').fit(X_train, y_train)\n",
    "Evaluate(clf_dummy, X_train, X_test, y_train, y_test, X, y)"
   ]
  },
  {
   "cell_type": "code",
   "execution_count": 5,
   "id": "8ab3c989",
   "metadata": {},
   "outputs": [
    {
     "name": "stdout",
     "output_type": "stream",
     "text": [
      "train accuracy= 96.429%\n",
      "test accuracy= 97.368%\n",
      "Cross-validation (accuracy) [0.96666667 0.96666667 0.93333333 0.96666667 1.        ]\n",
      "accuracy = 0.97\n",
      "recall = 0.97\n",
      "precision = 0.98\n",
      "f1_score  = 0.97\n"
     ]
    }
   ],
   "source": [
    "#KNN\n",
    "clf_knn = KNeighborsClassifier(n_neighbors = 3).fit(X_train, y_train)\n",
    "Evaluate(clf_knn, X_train, X_test, y_train, y_test, X, y)"
   ]
  },
  {
   "cell_type": "code",
   "execution_count": 6,
   "id": "52d30356",
   "metadata": {},
   "outputs": [
    {
     "name": "stdout",
     "output_type": "stream",
     "text": [
      "train accuracy= 99.107%\n",
      "test accuracy= 97.368%\n",
      "Cross-validation (accuracy) [0.96666667 1.         0.96666667 0.96666667 1.        ]\n",
      "accuracy = 0.97\n",
      "recall = 0.97\n",
      "precision = 0.98\n",
      "f1_score  = 0.97\n"
     ]
    }
   ],
   "source": [
    "#SVC\n",
    "clf_svc = SVC(kernel=\"poly\").fit(X_train, y_train)\n",
    "Evaluate(clf_svc, X_train, X_test, y_train, y_test, X, y)"
   ]
  },
  {
   "cell_type": "code",
   "execution_count": 7,
   "id": "c4e6fccc",
   "metadata": {},
   "outputs": [
    {
     "name": "stdout",
     "output_type": "stream",
     "text": [
      "train accuracy= 98.214%\n",
      "test accuracy= 97.368%\n",
      "Cross-validation (accuracy) [0.96666667 1.         0.93333333 0.96666667 1.        ]\n",
      "accuracy = 0.97\n",
      "recall = 0.97\n",
      "precision = 0.98\n",
      "f1_score  = 0.97\n"
     ]
    }
   ],
   "source": [
    "#Logistic regression\n",
    "clf_lr = LogisticRegression(max_iter = 300).fit(X_train, y_train)\n",
    "Evaluate(clf_lr, X_train, X_test, y_train, y_test, X, y)"
   ]
  },
  {
   "cell_type": "code",
   "execution_count": 8,
   "id": "8a430bf9",
   "metadata": {},
   "outputs": [
    {
     "name": "stdout",
     "output_type": "stream",
     "text": [
      "train accuracy= 100.000%\n",
      "test accuracy= 97.368%\n",
      "Cross-validation (accuracy) [0.96666667 0.96666667 0.93333333 0.93333333 1.        ]\n",
      "accuracy = 0.97\n",
      "recall = 0.97\n",
      "precision = 0.98\n",
      "f1_score  = 0.97\n"
     ]
    }
   ],
   "source": [
    "#XGBoost\n",
    "clf_xgb = XGBClassifier().fit(X_train, y_train)\n",
    "Evaluate(clf_xgb, X_train, X_test, y_train, y_test, X, y)"
   ]
  }
 ],
 "metadata": {
  "kernelspec": {
   "display_name": "Python 3 (ipykernel)",
   "language": "python",
   "name": "python3"
  },
  "language_info": {
   "codemirror_mode": {
    "name": "ipython",
    "version": 3
   },
   "file_extension": ".py",
   "mimetype": "text/x-python",
   "name": "python",
   "nbconvert_exporter": "python",
   "pygments_lexer": "ipython3",
   "version": "3.9.13"
  }
 },
 "nbformat": 4,
 "nbformat_minor": 5
}
